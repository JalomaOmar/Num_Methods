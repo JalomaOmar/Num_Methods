{
  "cells": [
    {
      "cell_type": "markdown",
      "metadata": {
        "id": "CZjNyAiMw5cg"
      },
      "source": [
        "#                                                           Tarea 1\n",
        "#                                                 Métodos Numéricos \n",
        "#                                                       Omar Jaloma"
      ]
    },
    {
      "cell_type": "code",
      "execution_count": null,
      "metadata": {
        "id": "jCmhvEy3w5co",
        "outputId": "c1f86bc5-3ff7-4511-a220-911014a68594"
      },
      "outputs": [
        {
          "name": "stdout",
          "output_type": "stream",
          "text": [
            "sehcoN saneuB aloH\n",
            "l       aaaa a a a a a aaaa girt n    uuuuu ne ogirt naímoc sergit setsirt ser      T\n"
          ]
        }
      ],
      "source": [
        "#Ejercicio 1\n",
        "def rvrstr(txt):\n",
        "    return(txt[::-1].strip()) #Utilizamos el método strip para quitar los espacios del inicio y final del string y revertimos la cadena txt con [::-1]\n",
        "\n",
        "print(rvrstr(\" Hola Buenas Noches    \"))\n",
        "print(rvrstr(\"   T      res tristes tigres comían trigo en uuuuu    n trig aaaa a a a a a aaaa       l     \"))\n"
      ]
    },
    {
      "cell_type": "code",
      "execution_count": null,
      "metadata": {
        "id": "zs4Byoapw5cq",
        "outputId": "ca1c69e5-d52d-4124-8601-d85aa17a6b99"
      },
      "outputs": [
        {
          "name": "stdout",
          "output_type": "stream",
          "text": [
            "0 2\n",
            "1 2\n"
          ]
        }
      ],
      "source": [
        "#Ejercicio 2\n",
        "def sumidx(lista, valor):\n",
        "        for i in lista:\n",
        "            for j in lista:\n",
        "                 if i+j==valor:\n",
        "                    return([lista.index(i),lista.index(j)])\n",
        "        \n",
        "print(*sumidx([10,20,30,40,50],40), sep=\" \")\n",
        "print(*sumidx(['a', 'b', 'c', 'd', 'e'], 'bc'), sep=\" \")\n",
        "\n",
        "\n"
      ]
    },
    {
      "cell_type": "code",
      "execution_count": 1,
      "metadata": {
        "colab": {
          "base_uri": "https://localhost:8080/"
        },
        "id": "xZxLRmvPw5cr",
        "outputId": "6ccd01c2-99a0-4cfe-efe5-a1f2d7befef7"
      },
      "outputs": [
        {
          "output_type": "stream",
          "name": "stdout",
          "text": [
            "5.5\n",
            "4.0\n",
            "0.6666666666666666\n",
            "350.0\n"
          ]
        }
      ],
      "source": [
        "#Ejercicio 3\n",
        "def media(lista):\n",
        "    suma=0\n",
        "    j=0\n",
        "    for i in lista:\n",
        "        suma+=i\n",
        "        j+=1\n",
        "    return(suma/j)\n",
        "\n",
        "print(media([1,2,3,4,5,6,7,8,9,10]))\n",
        "print(media([5,3,4,4]))\n",
        "\n",
        "def varianza(lista):\n",
        "    lista=[i-media(lista) for i in lista]\n",
        "    lista=[(i)**2 for i in lista]   \n",
        "    return(media(lista))\n",
        "print(varianza([1,2,3]))\n",
        "print(varianza([34, 56,32, 78]))\n",
        "    "
      ]
    },
    {
      "cell_type": "code",
      "execution_count": 3,
      "metadata": {
        "colab": {
          "base_uri": "https://localhost:8080/"
        },
        "id": "A2Wje67lw5cs",
        "outputId": "36be4545-e5e1-44a3-f769-10bef408eff9"
      },
      "outputs": [
        {
          "output_type": "stream",
          "name": "stdout",
          "text": [
            "True\n",
            "False\n",
            "False\n",
            "True\n"
          ]
        }
      ],
      "source": [
        "#Ejercicio 4\n",
        "def rightpar(txt):\n",
        "  cont=[]\n",
        "  dic={ '(':')', '{':'}', '[':']'} #Definimos los elementos que queremos verificar su paridad\n",
        "  for i in txt: #Recorremos el string  \n",
        "    if i in dic:\n",
        "      cont.append(i) #Esta condición va contando los paréntesis, corchetes o brackets que se abren \n",
        "      continue\n",
        "    try:\n",
        "      s=cont.pop()\n",
        "    except IndexError:\n",
        "      return False\n",
        "    if i!=dic[s]: # Aquí se verifica que si no se cierra el paréntesis, corchete o bracket\n",
        "      return False\n",
        "  return (len(cont)==0) #Al final se verifica que todo esté en orden\n",
        "\n",
        "\n",
        "print(rightpar(\"((){[()]{}})\"))\n",
        "print(rightpar(\"(({))\"))\n",
        "print(rightpar(\"(}{)\"))\n",
        "print(rightpar(\"{{}}[(()[])]\"))"
      ]
    },
    {
      "cell_type": "code",
      "source": [
        "#Ejercicio 5\n",
        "\n",
        "def PigLatin(txt):\n",
        "  dic=['a', 'e', 'i', 'o', 'u', 'A', 'E', 'I', 'O', 'U']\n",
        "  cont=0\n",
        "  while txt[cont] not in dic:\n",
        "    cont+=1\n",
        "  if(cont==0):\n",
        "    return(txt+\"ay\")\n",
        "  else:\n",
        "    return(txt[cont:]+txt[:cont]+\"ay\")\n",
        "\n",
        "print(PigLatin(\"abcde\"))\n",
        "print(PigLatin(\"Marlin\"))\n",
        "print(PigLatin(\"Transporte\"))\n",
        "print(PigLatin(\"Craneo\"))\n",
        "print(PigLatin(\"Obstruir\"))"
      ],
      "metadata": {
        "colab": {
          "base_uri": "https://localhost:8080/"
        },
        "id": "lObmwDZkOdeh",
        "outputId": "d2f19408-5f30-46d7-929c-041ebc81b164"
      },
      "execution_count": 9,
      "outputs": [
        {
          "output_type": "stream",
          "name": "stdout",
          "text": [
            "abcdeay\n",
            "arlinMay\n",
            "ansporteTray\n",
            "aneoCray\n",
            "uirObstray\n"
          ]
        }
      ]
    },
    {
      "cell_type": "code",
      "source": [
        "#Ejercicio 6\n",
        "\n",
        "def Potencia(lista): #Utilizamos una definición recursiva\n",
        "    if len(lista)==0:\n",
        "       return([lista])# Condición base, un conjunto vacío\n",
        "    else:\n",
        "      s=Potencia(lista[1:]) #Tomamos al primer elemento y después tomamos la base de la lista sin nuestro primer elemento\n",
        "      for i in s:\n",
        "        i.append(lista[0]) #Ahora a cada conjunto de la potencia de s, agregamos el primer elemento de la lista\n",
        "      return(s+Potencia(lista[1:])) #Unimos y obtenemos nuestro conjunto potencia\n",
        "\n",
        "print(Potencia([1,2,3]))\n",
        "print(Potencia(['a', 'b', 'c', 'd']))\n",
        "print(Potencia([]))\n",
        "print(Potencia([1]))\n",
        "\n",
        "\n",
        "\n",
        "\n"
      ],
      "metadata": {
        "colab": {
          "base_uri": "https://localhost:8080/"
        },
        "id": "ybiTfDfzb89P",
        "outputId": "bab5ac24-abf6-47a9-e965-cb1800cc1cd8"
      },
      "execution_count": 2,
      "outputs": [
        {
          "output_type": "stream",
          "name": "stdout",
          "text": [
            "[[3, 2, 1], [2, 1], [3, 1], [1], [3, 2], [2], [3], []]\n",
            "[['d', 'c', 'b', 'a'], ['c', 'b', 'a'], ['d', 'b', 'a'], ['b', 'a'], ['d', 'c', 'a'], ['c', 'a'], ['d', 'a'], ['a'], ['d', 'c', 'b'], ['c', 'b'], ['d', 'b'], ['b'], ['d', 'c'], ['c'], ['d'], []]\n",
            "[[]]\n",
            "[[1], []]\n"
          ]
        }
      ]
    },
    {
      "cell_type": "code",
      "source": [
        "#Ejercicio 7\n",
        "\n",
        "def LooknSay(n):\n",
        "  s=[1] #Comenzamos con la condición inicial del Look and Say\n",
        "  r=[]\n",
        "  for i in range(n-1): #Haremos n-1 iteraciones y que la condición inicial se identifica como el elemento n=1\n",
        "    p=s[0] #p será la vriable que dictamine el cmbio en el look\n",
        "    cont=0 #cont es el contador de las p's\n",
        "    for j in s:\n",
        "       if j!=p and cont!=0: #Entramos aquí cuando hay un cambio en el look\n",
        "         r.append(cont)\n",
        "         r.append(p)\n",
        "         p=j\n",
        "         cont=1\n",
        "       else: #Seguimos contando si no hay cambio en el look\n",
        "         cont+=1\n",
        "    \n",
        "    s=r\n",
        "    s.append(cont) #Anexamos las veces que está la última varible que contamos\n",
        "    s.append(p)\n",
        "    r=[] #Reiniciamos r para seguir con la siguiente iteración\n",
        "  return(s)     \n",
        "\n",
        "print(*LooknSay(1), sep=\"\")\n",
        "print(*LooknSay(2), sep=\"\")\n",
        "print(*LooknSay(3), sep=\"\")\n",
        "print(*LooknSay(4), sep=\"\")\n",
        "print(*LooknSay(5), sep=\"\")\n",
        "print(*LooknSay(6), sep=\"\")\n",
        "print(*LooknSay(7), sep=\"\")\n"
      ],
      "metadata": {
        "colab": {
          "base_uri": "https://localhost:8080/"
        },
        "id": "xV9_ejREdu2_",
        "outputId": "750e062e-b556-4d45-c5a0-987a21c67754"
      },
      "execution_count": 12,
      "outputs": [
        {
          "output_type": "stream",
          "name": "stdout",
          "text": [
            "1\n",
            "11\n",
            "21\n",
            "1211\n",
            "111221\n",
            "312211\n",
            "13112221\n"
          ]
        }
      ]
    }
  ],
  "metadata": {
    "kernelspec": {
      "display_name": "Python 3",
      "language": "python",
      "name": "python3"
    },
    "language_info": {
      "codemirror_mode": {
        "name": "ipython",
        "version": 3
      },
      "file_extension": ".py",
      "mimetype": "text/x-python",
      "name": "python",
      "nbconvert_exporter": "python",
      "pygments_lexer": "ipython3",
      "version": "3.8.3"
    },
    "colab": {
      "name": "Jaloma Omar Tarea 01 Métodos Numéricos.ipynb",
      "provenance": [],
      "collapsed_sections": []
    }
  },
  "nbformat": 4,
  "nbformat_minor": 0
}